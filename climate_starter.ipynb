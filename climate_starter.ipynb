{
 "cells": [
  {
   "cell_type": "code",
   "execution_count": 45,
   "metadata": {},
   "outputs": [],
   "source": [
    "%matplotlib inline\n",
    "from matplotlib import style\n",
    "style.use('fivethirtyeight')\n",
    "import matplotlib.pyplot as plt\n",
    "import flask\n",
    "import seaborn as sns"
   ]
  },
  {
   "cell_type": "code",
   "execution_count": 46,
   "metadata": {},
   "outputs": [],
   "source": [
    "import numpy as np\n",
    "import pandas as pd"
   ]
  },
  {
   "cell_type": "code",
   "execution_count": 47,
   "metadata": {},
   "outputs": [],
   "source": [
    "import datetime as dt\n",
    "from datetime import timedelta, datetime"
   ]
  },
  {
   "cell_type": "markdown",
   "metadata": {},
   "source": [
    "# Reflect Tables into SQLAlchemy ORM"
   ]
  },
  {
   "cell_type": "code",
   "execution_count": 48,
   "metadata": {},
   "outputs": [],
   "source": [
    "# Python SQL toolkit and Object Relational Mapper\n",
    "import sqlalchemy\n",
    "from sqlalchemy.ext.automap import automap_base\n",
    "from sqlalchemy.orm import Session\n",
    "from sqlalchemy import create_engine, func\n",
    "from sqlalchemy import Column, Integer, String, Float\n",
    "from sqlalchemy.sql import text"
   ]
  },
  {
   "cell_type": "code",
   "execution_count": 49,
   "metadata": {},
   "outputs": [],
   "source": [
    "engine = create_engine(\"sqlite:///Resources/hawaii.sqlite\")"
   ]
  },
  {
   "cell_type": "code",
   "execution_count": 50,
   "metadata": {},
   "outputs": [],
   "source": [
    "# reflect an existing database into a new model\n",
    "Base = automap_base()\n",
    "# reflect the tables\n",
    "Base.prepare(engine, reflect=True)"
   ]
  },
  {
   "cell_type": "code",
   "execution_count": 51,
   "metadata": {},
   "outputs": [
    {
     "data": {
      "text/plain": [
       "['measurement', 'station']"
      ]
     },
     "execution_count": 51,
     "metadata": {},
     "output_type": "execute_result"
    }
   ],
   "source": [
    "# We can view all of the classes that automap found\n",
    "Base.classes.keys()"
   ]
  },
  {
   "cell_type": "code",
   "execution_count": 52,
   "metadata": {},
   "outputs": [],
   "source": [
    "# Save references to each table\n",
    "Measurement = Base.classes.measurement\n",
    "Station = Base.classes.station"
   ]
  },
  {
   "cell_type": "code",
   "execution_count": 53,
   "metadata": {},
   "outputs": [],
   "source": [
    "# Create our session (link) from Python to the DB\n",
    "session = Session(engine)"
   ]
  },
  {
   "cell_type": "markdown",
   "metadata": {},
   "source": [
    "# Exploratory Climate Analysis"
   ]
  },
  {
   "cell_type": "code",
   "execution_count": 54,
   "metadata": {},
   "outputs": [
    {
     "name": "stdout",
     "output_type": "stream",
     "text": [
      "12 Month Date Range: 2016-08-23 - 2017-08-23\n"
     ]
    }
   ],
   "source": [
    "# Design a query to retrieve the last 12 months of precipitation data and plot the results\n",
    "\n",
    "#first get the maximum date from our sample data to see how up-to-date it is\n",
    "results = engine.execute('SELECT max(date) from Measurement').fetchall()\n",
    "\n",
    "max_date = results[0][0]\n",
    "\n",
    "end_date = datetime.strptime(max_date, '%Y-%m-%d').date()\n",
    "\n",
    "first_date = end_date - dt.timedelta(days=365)\n",
    "\n",
    "first_date = datetime.strftime(first_date, '%Y-%m-%d')\n",
    "\n",
    "print(f\"12 Month Date Range: {first_date} - {end_date}\")\n",
    "\n"
   ]
  },
  {
   "cell_type": "code",
   "execution_count": 55,
   "metadata": {},
   "outputs": [
    {
     "data": {
      "text/html": [
       "<div>\n",
       "<style scoped>\n",
       "    .dataframe tbody tr th:only-of-type {\n",
       "        vertical-align: middle;\n",
       "    }\n",
       "\n",
       "    .dataframe tbody tr th {\n",
       "        vertical-align: top;\n",
       "    }\n",
       "\n",
       "    .dataframe thead th {\n",
       "        text-align: right;\n",
       "    }\n",
       "</style>\n",
       "<table border=\"1\" class=\"dataframe\">\n",
       "  <thead>\n",
       "    <tr style=\"text-align: right;\">\n",
       "      <th></th>\n",
       "      <th>station</th>\n",
       "      <th>precipitation</th>\n",
       "      <th>tobs</th>\n",
       "    </tr>\n",
       "    <tr>\n",
       "      <th>date</th>\n",
       "      <th></th>\n",
       "      <th></th>\n",
       "      <th></th>\n",
       "    </tr>\n",
       "  </thead>\n",
       "  <tbody>\n",
       "    <tr>\n",
       "      <th>2016-08-24</th>\n",
       "      <td>USC00519397</td>\n",
       "      <td>0.08</td>\n",
       "      <td>79.0</td>\n",
       "    </tr>\n",
       "    <tr>\n",
       "      <th>2016-08-24</th>\n",
       "      <td>USC00513117</td>\n",
       "      <td>2.15</td>\n",
       "      <td>76.0</td>\n",
       "    </tr>\n",
       "    <tr>\n",
       "      <th>2016-08-24</th>\n",
       "      <td>USC00514830</td>\n",
       "      <td>2.28</td>\n",
       "      <td>80.0</td>\n",
       "    </tr>\n",
       "    <tr>\n",
       "      <th>2016-08-24</th>\n",
       "      <td>USC00517948</td>\n",
       "      <td>NaN</td>\n",
       "      <td>78.0</td>\n",
       "    </tr>\n",
       "    <tr>\n",
       "      <th>2016-08-24</th>\n",
       "      <td>USC00519523</td>\n",
       "      <td>1.22</td>\n",
       "      <td>79.0</td>\n",
       "    </tr>\n",
       "    <tr>\n",
       "      <th>2016-08-24</th>\n",
       "      <td>USC00519281</td>\n",
       "      <td>2.15</td>\n",
       "      <td>77.0</td>\n",
       "    </tr>\n",
       "    <tr>\n",
       "      <th>2016-08-24</th>\n",
       "      <td>USC00516128</td>\n",
       "      <td>1.45</td>\n",
       "      <td>74.0</td>\n",
       "    </tr>\n",
       "    <tr>\n",
       "      <th>2016-08-25</th>\n",
       "      <td>USC00519397</td>\n",
       "      <td>0.08</td>\n",
       "      <td>80.0</td>\n",
       "    </tr>\n",
       "    <tr>\n",
       "      <th>2016-08-25</th>\n",
       "      <td>USC00513117</td>\n",
       "      <td>0.08</td>\n",
       "      <td>77.0</td>\n",
       "    </tr>\n",
       "    <tr>\n",
       "      <th>2016-08-25</th>\n",
       "      <td>USC00514830</td>\n",
       "      <td>0.00</td>\n",
       "      <td>81.0</td>\n",
       "    </tr>\n",
       "  </tbody>\n",
       "</table>\n",
       "</div>"
      ],
      "text/plain": [
       "                station  precipitation  tobs\n",
       "date                                        \n",
       "2016-08-24  USC00519397           0.08  79.0\n",
       "2016-08-24  USC00513117           2.15  76.0\n",
       "2016-08-24  USC00514830           2.28  80.0\n",
       "2016-08-24  USC00517948            NaN  78.0\n",
       "2016-08-24  USC00519523           1.22  79.0\n",
       "2016-08-24  USC00519281           2.15  77.0\n",
       "2016-08-24  USC00516128           1.45  74.0\n",
       "2016-08-25  USC00519397           0.08  80.0\n",
       "2016-08-25  USC00513117           0.08  77.0\n",
       "2016-08-25  USC00514830           0.00  81.0"
      ]
     },
     "execution_count": 55,
     "metadata": {},
     "output_type": "execute_result"
    }
   ],
   "source": [
    "#Now query the precipitation data using the 12-month date range\n",
    "\n",
    "# Perform a query to retrieve the data and precipitation scores\n",
    "results = session.query(Measurement.date, Measurement.station, Measurement.prcp, Measurement.tobs).\\\n",
    "    filter(Measurement.date > first_date).\\\n",
    "    filter(Measurement.date < end_date).\\\n",
    "    order_by(Measurement.date).all()\n",
    "\n",
    "# Save the query results as a Pandas DataFrame and set the index to the date column\n",
    "\n",
    "df = pd.DataFrame(results[:])\n",
    "\n",
    "df = df.set_index('date')\n",
    "\n",
    "# Sort the dataframe by date\n",
    "df = df.sort_values('date')\n",
    "df = df.rename(columns={'prcp' : 'precipitation'})\n",
    "\n",
    "df.head(10)\n",
    "\n"
   ]
  },
  {
   "cell_type": "code",
   "execution_count": 56,
   "metadata": {},
   "outputs": [
    {
     "data": {
      "text/html": [
       "<div>\n",
       "<style scoped>\n",
       "    .dataframe tbody tr th:only-of-type {\n",
       "        vertical-align: middle;\n",
       "    }\n",
       "\n",
       "    .dataframe tbody tr th {\n",
       "        vertical-align: top;\n",
       "    }\n",
       "\n",
       "    .dataframe thead th {\n",
       "        text-align: right;\n",
       "    }\n",
       "</style>\n",
       "<table border=\"1\" class=\"dataframe\">\n",
       "  <thead>\n",
       "    <tr style=\"text-align: right;\">\n",
       "      <th></th>\n",
       "      <th>date</th>\n",
       "      <th>precipitation</th>\n",
       "    </tr>\n",
       "  </thead>\n",
       "  <tbody>\n",
       "    <tr>\n",
       "      <th>0</th>\n",
       "      <td>2016-08-24</td>\n",
       "      <td>9.33</td>\n",
       "    </tr>\n",
       "    <tr>\n",
       "      <th>1</th>\n",
       "      <td>2016-08-25</td>\n",
       "      <td>0.54</td>\n",
       "    </tr>\n",
       "    <tr>\n",
       "      <th>2</th>\n",
       "      <td>2016-08-26</td>\n",
       "      <td>0.10</td>\n",
       "    </tr>\n",
       "    <tr>\n",
       "      <th>3</th>\n",
       "      <td>2016-08-27</td>\n",
       "      <td>0.32</td>\n",
       "    </tr>\n",
       "    <tr>\n",
       "      <th>4</th>\n",
       "      <td>2016-08-28</td>\n",
       "      <td>3.10</td>\n",
       "    </tr>\n",
       "    <tr>\n",
       "      <th>5</th>\n",
       "      <td>2016-08-29</td>\n",
       "      <td>1.46</td>\n",
       "    </tr>\n",
       "    <tr>\n",
       "      <th>6</th>\n",
       "      <td>2016-08-30</td>\n",
       "      <td>0.07</td>\n",
       "    </tr>\n",
       "    <tr>\n",
       "      <th>7</th>\n",
       "      <td>2016-08-31</td>\n",
       "      <td>3.18</td>\n",
       "    </tr>\n",
       "    <tr>\n",
       "      <th>8</th>\n",
       "      <td>2016-09-01</td>\n",
       "      <td>0.03</td>\n",
       "    </tr>\n",
       "    <tr>\n",
       "      <th>9</th>\n",
       "      <td>2016-09-02</td>\n",
       "      <td>0.25</td>\n",
       "    </tr>\n",
       "  </tbody>\n",
       "</table>\n",
       "</div>"
      ],
      "text/plain": [
       "         date  precipitation\n",
       "0  2016-08-24           9.33\n",
       "1  2016-08-25           0.54\n",
       "2  2016-08-26           0.10\n",
       "3  2016-08-27           0.32\n",
       "4  2016-08-28           3.10\n",
       "5  2016-08-29           1.46\n",
       "6  2016-08-30           0.07\n",
       "7  2016-08-31           3.18\n",
       "8  2016-09-01           0.03\n",
       "9  2016-09-02           0.25"
      ]
     },
     "execution_count": 56,
     "metadata": {},
     "output_type": "execute_result"
    }
   ],
   "source": [
    "#We need to plot only the precipitation and date so get rid of the station and tobs columns\n",
    "# then group the data by date and summarize the precipitation\n",
    "\n",
    "df_rain_plot = df.drop(columns=['station', 'tobs'])\n",
    "\n",
    "df_rain_groupby = df_rain_plot.groupby('date').sum()\n",
    "df_rain_groupby.reset_index(level=0, inplace=True)\n",
    "\n",
    "df_rain_groupby.head(10)\n",
    "\n"
   ]
  },
  {
   "cell_type": "code",
   "execution_count": 57,
   "metadata": {},
   "outputs": [
    {
     "data": {
      "image/png": "[encoded data removed]",
      "text/plain": [
       "<Figure size 432x288 with 1 Axes>"
      ]
     },
     "metadata": {},
     "output_type": "display_data"
    }
   ],
   "source": [
    "# Use Pandas Plotting with Matplotlib to plot the data\n",
    "\n",
    "df_rain_groupby.plot('date', 'precipitation')\n",
    "plt.xlabel('Date')\n",
    "plt.ylabel('Precipitation (inches)')\n",
    "plt.title('Hawaii Precipitation Analysis')\n",
    "plt.legend(['Precipitation'])\n",
    "plt.savefig('Images/Hawaii_Precipitation_Analysis.png')\n",
    "plt.show()\n"
   ]
  },
  {
   "cell_type": "code",
   "execution_count": 58,
   "metadata": {},
   "outputs": [
    {
     "data": {
      "text/html": [
       "<div>\n",
       "<style scoped>\n",
       "    .dataframe tbody tr th:only-of-type {\n",
       "        vertical-align: middle;\n",
       "    }\n",
       "\n",
       "    .dataframe tbody tr th {\n",
       "        vertical-align: top;\n",
       "    }\n",
       "\n",
       "    .dataframe thead th {\n",
       "        text-align: right;\n",
       "    }\n",
       "</style>\n",
       "<table border=\"1\" class=\"dataframe\">\n",
       "  <thead>\n",
       "    <tr style=\"text-align: right;\">\n",
       "      <th></th>\n",
       "      <th>precipitation</th>\n",
       "      <th>tobs</th>\n",
       "    </tr>\n",
       "  </thead>\n",
       "  <tbody>\n",
       "    <tr>\n",
       "      <th>count</th>\n",
       "      <td>2011.000000</td>\n",
       "      <td>2219.000000</td>\n",
       "    </tr>\n",
       "    <tr>\n",
       "      <th>mean</th>\n",
       "      <td>0.176549</td>\n",
       "      <td>74.568725</td>\n",
       "    </tr>\n",
       "    <tr>\n",
       "      <th>std</th>\n",
       "      <td>0.460667</td>\n",
       "      <td>4.608881</td>\n",
       "    </tr>\n",
       "    <tr>\n",
       "      <th>min</th>\n",
       "      <td>0.000000</td>\n",
       "      <td>58.000000</td>\n",
       "    </tr>\n",
       "    <tr>\n",
       "      <th>25%</th>\n",
       "      <td>0.000000</td>\n",
       "      <td>71.000000</td>\n",
       "    </tr>\n",
       "    <tr>\n",
       "      <th>50%</th>\n",
       "      <td>0.020000</td>\n",
       "      <td>75.000000</td>\n",
       "    </tr>\n",
       "    <tr>\n",
       "      <th>75%</th>\n",
       "      <td>0.130000</td>\n",
       "      <td>78.000000</td>\n",
       "    </tr>\n",
       "    <tr>\n",
       "      <th>max</th>\n",
       "      <td>6.700000</td>\n",
       "      <td>87.000000</td>\n",
       "    </tr>\n",
       "  </tbody>\n",
       "</table>\n",
       "</div>"
      ],
      "text/plain": [
       "       precipitation         tobs\n",
       "count    2011.000000  2219.000000\n",
       "mean        0.176549    74.568725\n",
       "std         0.460667     4.608881\n",
       "min         0.000000    58.000000\n",
       "25%         0.000000    71.000000\n",
       "50%         0.020000    75.000000\n",
       "75%         0.130000    78.000000\n",
       "max         6.700000    87.000000"
      ]
     },
     "execution_count": 58,
     "metadata": {},
     "output_type": "execute_result"
    }
   ],
   "source": [
    "# Use Pandas to calcualte the summary statistics for the precipitation data\n",
    "df.describe()"
   ]
  },
  {
   "cell_type": "code",
   "execution_count": 59,
   "metadata": {},
   "outputs": [
    {
     "name": "stdout",
     "output_type": "stream",
     "text": [
      "There are 9 stations.\n"
     ]
    }
   ],
   "source": [
    "# How many stations are available in this dataset?\n",
    "station_number = engine.execute('SELECT count(station) as \"Number of Stations\" from (SELECT DISTINCT Measurement.station FROM Measurement)').fetchall()\n",
    "\n",
    "station_number = station_number[0][0]\n",
    "station_number\n",
    "\n",
    "\n",
    "print(\"There are {} stations.\".format(station_number))"
   ]
  },
  {
   "cell_type": "code",
   "execution_count": 60,
   "metadata": {},
   "outputs": [
    {
     "data": {
      "text/plain": [
       "[('USC00519281', 2772),\n",
       " ('USC00519397', 2724),\n",
       " ('USC00513117', 2709),\n",
       " ('USC00519523', 2669),\n",
       " ('USC00516128', 2612),\n",
       " ('USC00514830', 2202),\n",
       " ('USC00511918', 1979),\n",
       " ('USC00517948', 1372),\n",
       " ('USC00518838', 511)]"
      ]
     },
     "execution_count": 60,
     "metadata": {},
     "output_type": "execute_result"
    }
   ],
   "source": [
    "# What are the most active stations?\n",
    "# List the stations and the counts in descending order.\n",
    "\n",
    "most_active = engine.execute(\n",
    "    'SELECT Measurement.station, COUNT(*) FROM Measurement GROUP BY Measurement.station ORDER BY COUNT(*) DESC').fetchall()\n",
    "\n",
    "most_active\n"
   ]
  },
  {
   "cell_type": "code",
   "execution_count": 61,
   "metadata": {},
   "outputs": [
    {
     "name": "stdout",
     "output_type": "stream",
     "text": [
      "The most active station is USC00519281.\n"
     ]
    }
   ],
   "source": [
    "#Get the most active station\n",
    "top_station = most_active[0][0]\n",
    "top_station\n",
    "\n",
    "print(f'The most active station is {top_station}.')"
   ]
  },
  {
   "cell_type": "code",
   "execution_count": 62,
   "metadata": {},
   "outputs": [
    {
     "name": "stdout",
     "output_type": "stream",
     "text": [
      "12-Month Stats for the Most Active Station (USC00519281)\n",
      "Lowest temp: 59.0\n",
      "Highest temp: 83.0\n",
      "Average temp: 73.11\n"
     ]
    }
   ],
   "source": [
    "# Using the station id from the previous query, calculate the lowest temperature recorded, \n",
    "# highest temperature recorded, and average temperature  active station?\n",
    "\n",
    "t = text(\"SELECT MIN(Measurement.tobs), MAX(Measurement.tobs), AVG(Measurement.tobs), Measurement.station \\\n",
    "               FROM Measurement WHERE Measurement.station = :z and Measurement.date between :x and :y\")\n",
    "\n",
    "\n",
    "top_station_results = engine.execute(t, z=top_station, x=first_date, y=end_date).fetchall()\n",
    "\n",
    "top = top_station_results[0]\n",
    "top\n",
    "\n",
    "min_temp = top[0]\n",
    "max_temp = top[1]\n",
    "avg_temp = round(top[2],2)\n",
    "\n",
    "print(f'12-Month Stats for the Most Active Station ({top_station})\\nLowest temp: {min_temp}\\nHighest temp: {max_temp}\\nAverage temp: {avg_temp}')\n"
   ]
  },
  {
   "cell_type": "code",
   "execution_count": 63,
   "metadata": {},
   "outputs": [
    {
     "name": "stdout",
     "output_type": "stream",
     "text": [
      "The station with the most observations is : USC00519281\n"
     ]
    }
   ],
   "source": [
    "# Choose the station with the highest number of temperature observations.\n",
    "\n",
    "top_station_vals = engine.execute(\n",
    "    'select max(x.observation), x.station from (select count(*) as observation, station \\\n",
    "    from Measurement group by station) x').fetchall()\n",
    "\n",
    "\n",
    "top_station = [station for (number, station) in top_station_vals]\n",
    "top_station = top_station[0]\n",
    "top_station\n",
    "               \n",
    "    \n",
    "print(f'The station with the most observations is : {top_station}')    "
   ]
  },
  {
   "cell_type": "code",
   "execution_count": 65,
   "metadata": {},
   "outputs": [
    {
     "data": {
      "text/html": [
       "<div>\n",
       "<style scoped>\n",
       "    .dataframe tbody tr th:only-of-type {\n",
       "        vertical-align: middle;\n",
       "    }\n",
       "\n",
       "    .dataframe tbody tr th {\n",
       "        vertical-align: top;\n",
       "    }\n",
       "\n",
       "    .dataframe thead th {\n",
       "        text-align: right;\n",
       "    }\n",
       "</style>\n",
       "<table border=\"1\" class=\"dataframe\">\n",
       "  <thead>\n",
       "    <tr style=\"text-align: right;\">\n",
       "      <th></th>\n",
       "      <th>Frequency</th>\n",
       "      <th>Tobs</th>\n",
       "    </tr>\n",
       "  </thead>\n",
       "  <tbody>\n",
       "    <tr>\n",
       "      <th>0</th>\n",
       "      <td>3</td>\n",
       "      <td>59</td>\n",
       "    </tr>\n",
       "    <tr>\n",
       "      <th>1</th>\n",
       "      <td>2</td>\n",
       "      <td>60</td>\n",
       "    </tr>\n",
       "    <tr>\n",
       "      <th>2</th>\n",
       "      <td>1</td>\n",
       "      <td>61</td>\n",
       "    </tr>\n",
       "    <tr>\n",
       "      <th>3</th>\n",
       "      <td>6</td>\n",
       "      <td>62</td>\n",
       "    </tr>\n",
       "    <tr>\n",
       "      <th>4</th>\n",
       "      <td>4</td>\n",
       "      <td>63</td>\n",
       "    </tr>\n",
       "  </tbody>\n",
       "</table>\n",
       "</div>"
      ],
      "text/plain": [
       "   Frequency  Tobs\n",
       "0          3    59\n",
       "1          2    60\n",
       "2          1    61\n",
       "3          6    62\n",
       "4          4    63"
      ]
     },
     "execution_count": 65,
     "metadata": {},
     "output_type": "execute_result"
    }
   ],
   "source": [
    "# Query the last 12 months of temperature observation data for this station\n",
    "\n",
    "\n",
    "s = text(\"select count(*) as 'frequency', Measurement.tobs from Measurement\"\n",
    "             \" where Measurement.date between :a and :b and Measurement.station = :c\"\n",
    "            \" group by Measurement.tobs\")\n",
    "\n",
    "station_results = engine.execute(s, a=first_date, b=end_date, c=top_station).fetchall()\n",
    "station_results\n",
    "\n",
    "top_station_df = pd.DataFrame(station_results, columns=['Frequency', 'Tobs'])\n",
    "\n",
    "#top_station_df = top_station_df.set_index('Frequency')\n",
    "\n",
    "top_station_df = top_station_df.astype(int)\n",
    "top_station_df.head()\n",
    "\n"
   ]
  },
  {
   "cell_type": "code",
   "execution_count": 66,
   "metadata": {},
   "outputs": [
    {
     "data": {
      "image/png": "[encoded data removed]",
      "text/plain": [
       "<Figure size 432x288 with 1 Axes>"
      ]
     },
     "metadata": {},
     "output_type": "display_data"
    }
   ],
   "source": [
    "#Plot the above dataframe results\n",
    "\n",
    "top_station_df.plot.bar(x=\"Tobs\", y=\"Frequency\")\n",
    "plt.title(f\"12 Month Temp Analysis for Station {top_station}\")\n",
    "plt.ylabel(\"# of Times Reported\")\n",
    "plt.xlabel(\"Temperature\")\n",
    "plt.legend()\n",
    "plt.savefig('Images/12 Month Analysis Top Station.png')"
   ]
  },
  {
   "cell_type": "code",
   "execution_count": 67,
   "metadata": {},
   "outputs": [
    {
     "name": "stdout",
     "output_type": "stream",
     "text": [
      "[(69.0, 78.48453608247422, 87.0)]\n"
     ]
    }
   ],
   "source": [
    "# Write a function called `calc_temps` that will accept start date and end date in the format '%Y-%m-%d' \n",
    "# and return the minimum, average, and maximum temperatures for that range of dates\n",
    "def calc_temps(start_date, end_date):\n",
    "    \"\"\"TMIN, TAVG, and TMAX for a list of dates.\n",
    "    \n",
    "    Args:\n",
    "        start_date (string): A date string in the format %Y-%m-%d\n",
    "        end_date (string): A date string in the format %Y-%m-%d\n",
    "        \n",
    "    Returns:\n",
    "        TMIN, TAVE, and TMAX\n",
    "    \"\"\"\n",
    "    \n",
    "    return session.query(func.min(Measurement.tobs), func.avg(Measurement.tobs), func.max(Measurement.tobs)).\\\n",
    "        filter(Measurement.date >= start_date).filter(Measurement.date <= end_date).all()\n",
    "print(calc_temps('2017-07-01', '2017-07-31'))"
   ]
  },
  {
   "cell_type": "code",
   "execution_count": 68,
   "metadata": {},
   "outputs": [
    {
     "data": {
      "text/plain": [
       "[(71.0, 77.78, 83.0)]"
      ]
     },
     "execution_count": 68,
     "metadata": {},
     "output_type": "execute_result"
    }
   ],
   "source": [
    "# Use your previous function `calc_temps` to calculate the tmin, tavg, and tmax \n",
    "# for your trip using the previous year's data for those same dates.\n",
    "\n",
    "#My trip dates are July 15, 2017 to July 31, 2017, so the prior year is 2016.\n",
    "\n",
    "prior_temps = calc_temps('2016-07-15', '2016-07-31')\n",
    "\n",
    "prior_temps\n"
   ]
  },
  {
   "cell_type": "code",
   "execution_count": 69,
   "metadata": {},
   "outputs": [
    {
     "data": {
      "image/png": "[encoded data removed]",
      "text/plain": [
       "<Figure size 432x288 with 1 Axes>"
      ]
     },
     "metadata": {},
     "output_type": "display_data"
    }
   ],
   "source": [
    "# Plot the results from your previous query as a bar chart. \n",
    "# Use \"Trip Avg Temp\" as your Title\n",
    "# Use the average temperature for the y value\n",
    "# Use the peak-to-peak (tmax-tmin) value as the y error bar (yerr)\n",
    "\n",
    "#Put the last year stats into variables\n",
    "last_avg = prior_temps[0][1]\n",
    "last_min = prior_temps[0][0]\n",
    "last_max = prior_temps[0][2]\n",
    "\n",
    "#Calculate the difference between the min and max to get the error bar\n",
    "min_max = last_max - last_min\n",
    "\n",
    "fig, ax = plt.subplots()\n",
    "bar_plot = ax.bar(1 , last_avg, color= 'orange', yerr=min_max, width=.5)\n",
    "ax.set_xlabel(\"Trip\")\n",
    "ax.set_ylabel(\"Temp(F)\")\n",
    "ax.set_title(\"Trip Average Temperature - Last Year\")\n",
    "plt.ylim(0, 100)\n",
    "plt.locator_params(axis='x', nbins=1)\n",
    "plt.savefig('Images/Last Year Trip Avg.png')\n",
    "plt.show()\n",
    "\n"
   ]
  },
  {
   "cell_type": "code",
   "execution_count": 70,
   "metadata": {},
   "outputs": [
    {
     "data": {
      "text/plain": [
       "[('USC00516128', 'MANOA LYON ARBO 785.2, HI US', 21.3331, -157.8025, 152.4, 16.54),\n",
       " ('USC00519281', 'WAIHEE 837.5, HI US', 21.45167, -157.84888999999998, 32.9, 13.58),\n",
       " ('USC00513117', 'KANEOHE 838.1, HI US', 21.4234, -157.8015, 14.6, 9.2),\n",
       " ('USC00519397', 'WAIKIKI 717.2, HI US', 21.2716, -157.8168, 3.0, 6.22),\n",
       " ('USC00519523', 'WAIMANALO EXPERIMENTAL FARM, HI US', 21.33556, -157.71139, 19.5, 5.25),\n",
       " ('USC00514830', 'KUALOA RANCH HEADQUARTERS 886.9, HI US', 21.5213, -157.8374, 7.0, 1.57),\n",
       " ('USC00517948', 'PEARL CITY, HI US', 21.3934, -157.9751, 11.9, 0.51)]"
      ]
     },
     "execution_count": 70,
     "metadata": {},
     "output_type": "execute_result"
    }
   ],
   "source": [
    "# Calculate the rainfall per weather station for your trip dates using the previous year's matching dates.\n",
    "# Sort this in descending order by precipitation amount and list the station, name, latitude, longitude, and elevation\n",
    "\n",
    "\n",
    "h = text(\"select Measurement.station, Station.name, Station.latitude, Station.longitude, Station.elevation, \" \n",
    "         \" sum(Measurement.prcp) as 'precipitation' from Measurement, Station \"\n",
    "             \" where Measurement.station = Station.station and Measurement.date between :d1 and :d2\"\n",
    "             \" group by Measurement.station, Station.name, Station.latitude, Station.longitude, Station.elevation \"\n",
    "             \" order by precipitation desc\")\n",
    "\n",
    "station_data = engine.execute(h, d1='2016-07-15', d2='2016-07-31').fetchall()\n",
    "station_data\n",
    "\n"
   ]
  },
  {
   "cell_type": "markdown",
   "metadata": {},
   "source": [
    "## Optional Challenge Assignment"
   ]
  },
  {
   "cell_type": "code",
   "execution_count": 71,
   "metadata": {},
   "outputs": [
    {
     "data": {
      "text/plain": [
       "[(62.0, 69.15384615384616, 77.0, '2011-01-01')]"
      ]
     },
     "execution_count": 71,
     "metadata": {},
     "output_type": "execute_result"
    }
   ],
   "source": [
    "# Create a query that will calculate the daily normals \n",
    "# (i.e. the averages for tmin, tmax, and tavg for all historic data matching a specific month and day)\n",
    "\n",
    "def daily_normals(date):\n",
    "    \"\"\"Daily Normals.\n",
    "    Args:\n",
    "        date (str): A date string in the format '%m-%d'\n",
    "    Returns:\n",
    "        A list of tuples containing the daily normals, tmin, tavg, and tmax\n",
    "    \"\"\"\n",
    "    \n",
    "    sel = [func.min(Measurement.tobs), func.avg(Measurement.tobs), func.max(Measurement.tobs), Measurement.date]\n",
    "    return session.query(*sel).filter(func.strftime(\"%m-%d\", Measurement.date) == date).all()\n",
    "    \n",
    "daily_normals(\"01-01\")"
   ]
  },
  {
   "cell_type": "code",
   "execution_count": 72,
   "metadata": {},
   "outputs": [
    {
     "data": {
      "text/plain": [
       "[[(68.0, 76.2542372881356, 82.0, '2017-07-15')],\n",
       " [(70.0, 76.34482758620689, 83.0, '2015-07-16')],\n",
       " [(70.0, 76.30188679245283, 83.0, '2015-07-17')],\n",
       " [(72.0, 76.63793103448276, 83.0, '2017-07-18')],\n",
       " [(68.0, 75.89090909090909, 83.0, '2014-07-19')],\n",
       " [(69.0, 75.46296296296296, 82.0, '2016-07-20')],\n",
       " [(69.0, 76.9245283018868, 83.0, '2015-07-21')],\n",
       " [(69.0, 75.78846153846153, 81.0, '2017-07-22')],\n",
       " [(70.0, 76.20370370370371, 84.0, '2015-07-23')],\n",
       " [(69.0, 76.55555555555556, 81.0, '2015-07-24')],\n",
       " [(67.0, 76.89090909090909, 84.0, '2012-07-25')],\n",
       " [(71.0, 76.4423076923077, 86.0, '2012-07-26')],\n",
       " [(68.0, 76.58181818181818, 83.0, '2014-07-27')],\n",
       " [(69.0, 76.46428571428571, 82.0, '2015-07-28')],\n",
       " [(69.0, 76.47058823529412, 83.0, '2017-07-29')],\n",
       " [(69.0, 77.35185185185185, 84.0, '2017-07-30')],\n",
       " [(72.0, 77.03571428571429, 83.0, '2015-07-31')]]"
      ]
     },
     "execution_count": 72,
     "metadata": {},
     "output_type": "execute_result"
    }
   ],
   "source": [
    "# calculate the daily normals for your trip\n",
    "# push each tuple of calculations into a list called `normals`\n",
    "\n",
    "# Set the start and end date of the trip\n",
    "\n",
    "my_trip_start = '2017-07-15'\n",
    "my_trip_end = '2017-07-31'\n",
    "\n",
    "# Use the start and end date to create a range of dates\n",
    "\n",
    "start = dt.datetime(2017, 7, 15)\n",
    "arr = np.array([start + dt.timedelta(days=i) for i in range(17)])\n",
    "arr\n",
    "\n",
    "# Strip off the year and save a list of %m-%d strings\n",
    "\n",
    "md_list = []\n",
    "\n",
    "for x in arr:\n",
    "    my_date = str(x)\n",
    "    d = dt.datetime.strptime(my_date, '%Y-%m-%d %H:%M:%S')\n",
    "    d = d.strftime('%m-%d')\n",
    "    md_list.append(d)\n",
    "    \n",
    "md_list\n",
    "\n",
    "# Loop through the list of %m-%d strings and calculate the normals for each date\n",
    "normals = []\n",
    "\n",
    "for y in md_list:\n",
    "    normals.append(daily_normals(y))\n",
    "\n",
    "normals\n"
   ]
  },
  {
   "cell_type": "code",
   "execution_count": 73,
   "metadata": {},
   "outputs": [
    {
     "data": {
      "text/html": [
       "<div>\n",
       "<style scoped>\n",
       "    .dataframe tbody tr th:only-of-type {\n",
       "        vertical-align: middle;\n",
       "    }\n",
       "\n",
       "    .dataframe tbody tr th {\n",
       "        vertical-align: top;\n",
       "    }\n",
       "\n",
       "    .dataframe thead th {\n",
       "        text-align: right;\n",
       "    }\n",
       "</style>\n",
       "<table border=\"1\" class=\"dataframe\">\n",
       "  <thead>\n",
       "    <tr style=\"text-align: right;\">\n",
       "      <th></th>\n",
       "      <th>tmin</th>\n",
       "      <th>tavg</th>\n",
       "      <th>tmax</th>\n",
       "    </tr>\n",
       "    <tr>\n",
       "      <th>date</th>\n",
       "      <th></th>\n",
       "      <th></th>\n",
       "      <th></th>\n",
       "    </tr>\n",
       "  </thead>\n",
       "  <tbody>\n",
       "    <tr>\n",
       "      <th>2017-07-15</th>\n",
       "      <td>68.0</td>\n",
       "      <td>76.254237</td>\n",
       "      <td>82.0</td>\n",
       "    </tr>\n",
       "    <tr>\n",
       "      <th>2015-07-16</th>\n",
       "      <td>70.0</td>\n",
       "      <td>76.344828</td>\n",
       "      <td>83.0</td>\n",
       "    </tr>\n",
       "    <tr>\n",
       "      <th>2015-07-17</th>\n",
       "      <td>70.0</td>\n",
       "      <td>76.301887</td>\n",
       "      <td>83.0</td>\n",
       "    </tr>\n",
       "    <tr>\n",
       "      <th>2017-07-18</th>\n",
       "      <td>72.0</td>\n",
       "      <td>76.637931</td>\n",
       "      <td>83.0</td>\n",
       "    </tr>\n",
       "    <tr>\n",
       "      <th>2014-07-19</th>\n",
       "      <td>68.0</td>\n",
       "      <td>75.890909</td>\n",
       "      <td>83.0</td>\n",
       "    </tr>\n",
       "    <tr>\n",
       "      <th>2016-07-20</th>\n",
       "      <td>69.0</td>\n",
       "      <td>75.462963</td>\n",
       "      <td>82.0</td>\n",
       "    </tr>\n",
       "    <tr>\n",
       "      <th>2015-07-21</th>\n",
       "      <td>69.0</td>\n",
       "      <td>76.924528</td>\n",
       "      <td>83.0</td>\n",
       "    </tr>\n",
       "    <tr>\n",
       "      <th>2017-07-22</th>\n",
       "      <td>69.0</td>\n",
       "      <td>75.788462</td>\n",
       "      <td>81.0</td>\n",
       "    </tr>\n",
       "    <tr>\n",
       "      <th>2015-07-23</th>\n",
       "      <td>70.0</td>\n",
       "      <td>76.203704</td>\n",
       "      <td>84.0</td>\n",
       "    </tr>\n",
       "    <tr>\n",
       "      <th>2015-07-24</th>\n",
       "      <td>69.0</td>\n",
       "      <td>76.555556</td>\n",
       "      <td>81.0</td>\n",
       "    </tr>\n",
       "    <tr>\n",
       "      <th>2012-07-25</th>\n",
       "      <td>67.0</td>\n",
       "      <td>76.890909</td>\n",
       "      <td>84.0</td>\n",
       "    </tr>\n",
       "    <tr>\n",
       "      <th>2012-07-26</th>\n",
       "      <td>71.0</td>\n",
       "      <td>76.442308</td>\n",
       "      <td>86.0</td>\n",
       "    </tr>\n",
       "    <tr>\n",
       "      <th>2014-07-27</th>\n",
       "      <td>68.0</td>\n",
       "      <td>76.581818</td>\n",
       "      <td>83.0</td>\n",
       "    </tr>\n",
       "    <tr>\n",
       "      <th>2015-07-28</th>\n",
       "      <td>69.0</td>\n",
       "      <td>76.464286</td>\n",
       "      <td>82.0</td>\n",
       "    </tr>\n",
       "    <tr>\n",
       "      <th>2017-07-29</th>\n",
       "      <td>69.0</td>\n",
       "      <td>76.470588</td>\n",
       "      <td>83.0</td>\n",
       "    </tr>\n",
       "    <tr>\n",
       "      <th>2017-07-30</th>\n",
       "      <td>69.0</td>\n",
       "      <td>77.351852</td>\n",
       "      <td>84.0</td>\n",
       "    </tr>\n",
       "    <tr>\n",
       "      <th>2015-07-31</th>\n",
       "      <td>72.0</td>\n",
       "      <td>77.035714</td>\n",
       "      <td>83.0</td>\n",
       "    </tr>\n",
       "  </tbody>\n",
       "</table>\n",
       "</div>"
      ],
      "text/plain": [
       "            tmin       tavg  tmax\n",
       "date                             \n",
       "2017-07-15  68.0  76.254237  82.0\n",
       "2015-07-16  70.0  76.344828  83.0\n",
       "2015-07-17  70.0  76.301887  83.0\n",
       "2017-07-18  72.0  76.637931  83.0\n",
       "2014-07-19  68.0  75.890909  83.0\n",
       "2016-07-20  69.0  75.462963  82.0\n",
       "2015-07-21  69.0  76.924528  83.0\n",
       "2017-07-22  69.0  75.788462  81.0\n",
       "2015-07-23  70.0  76.203704  84.0\n",
       "2015-07-24  69.0  76.555556  81.0\n",
       "2012-07-25  67.0  76.890909  84.0\n",
       "2012-07-26  71.0  76.442308  86.0\n",
       "2014-07-27  68.0  76.581818  83.0\n",
       "2015-07-28  69.0  76.464286  82.0\n",
       "2017-07-29  69.0  76.470588  83.0\n",
       "2017-07-30  69.0  77.351852  84.0\n",
       "2015-07-31  72.0  77.035714  83.0"
      ]
     },
     "execution_count": 73,
     "metadata": {},
     "output_type": "execute_result"
    }
   ],
   "source": [
    "# Load the previous query results into a Pandas DataFrame and add the `trip_dates` range as the `date` index\n",
    "\n",
    "normal_list = [item for sublist in normals for item in sublist]\n",
    "normal_list\n",
    "\n",
    "normals_df = pd.DataFrame(normal_list, columns=['tmin', 'tavg', 'tmax', 'date'])\n",
    "normals_df = normals_df.set_index('date')\n",
    "normals_df"
   ]
  },
  {
   "cell_type": "code",
   "execution_count": 75,
   "metadata": {
    "scrolled": true
   },
   "outputs": [
    {
     "data": {
      "image/png": "[encoded data removed]",
      "text/plain": [
       "<Figure size 432x288 with 1 Axes>"
      ]
     },
     "metadata": {},
     "output_type": "display_data"
    }
   ],
   "source": [
    "# Plot the daily normals as an area plot with `stacked=False`\n",
    "\n",
    "\n",
    "normals_df.plot.area(stacked=False)\n",
    "plt.savefig('Images/Area Plot For Trip Dates.png')"
   ]
  },
  {
   "cell_type": "code",
   "execution_count": null,
   "metadata": {},
   "outputs": [],
   "source": []
  }
 ],
 "metadata": {
  "kernel_info": {
   "name": "python3"
  },
  "kernelspec": {
   "display_name": "Python [default]",
   "language": "python",
   "name": "python3"
  },
  "language_info": {
   "codemirror_mode": {
    "name": "ipython",
    "version": 3
   },
   "file_extension": ".py",
   "mimetype": "text/x-python",
   "name": "python",
   "nbconvert_exporter": "python",
   "pygments_lexer": "ipython3",
   "version": "3.6.5"
  },
  "nteract": {
   "version": "0.9.1"
  },
  "varInspector": {
   "cols": {
    "lenName": 16,
    "lenType": 16,
    "lenVar": 40
   },
   "kernels_config": {
    "python": {
     "delete_cmd_postfix": "",
     "delete_cmd_prefix": "del ",
     "library": "var_list.py",
     "varRefreshCmd": "print(var_dic_list())"
    },
    "r": {
     "delete_cmd_postfix": ") ",
     "delete_cmd_prefix": "rm(",
     "library": "var_list.r",
     "varRefreshCmd": "cat(var_dic_list()) "
    }
   },
   "types_to_exclude": [
    "module",
    "function",
    "builtin_function_or_method",
    "instance",
    "_Feature"
   ],
   "window_display": false
  }
 },
 "nbformat": 4,
 "nbformat_minor": 2
}
